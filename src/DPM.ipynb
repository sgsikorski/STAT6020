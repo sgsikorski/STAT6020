{
 "cells": [
  {
   "cell_type": "code",
   "execution_count": 1,
   "metadata": {},
   "outputs": [
    {
     "name": "stdout",
     "output_type": "stream",
     "text": [
      "['Activity ID', 'Activity Date', 'Activity Name', 'Activity Type', 'Activity Description', 'Elapsed Time', 'Distance', 'Max Heart Rate', 'Relative Effort', 'Commute', 'Activity Private Note', 'Activity Gear', 'Filename', 'Athlete Weight', 'Bike Weight', 'Elapsed Time.1', 'Moving Time', 'Distance.1', 'Max Speed', 'Average Speed', 'Elevation Gain', 'Elevation Loss', 'Elevation Low', 'Elevation High', 'Max Grade', 'Average Grade', 'Average Positive Grade', 'Average Negative Grade', 'Max Cadence', 'Average Cadence', 'Max Heart Rate.1', 'Average Heart Rate', 'Max Watts', 'Average Watts', 'Calories', 'Max Temperature', 'Average Temperature', 'Relative Effort.1', 'Total Work', 'Number of Runs', 'Uphill Time', 'Downhill Time', 'Other Time', 'Perceived Exertion', 'Type', 'Start Time', 'Weighted Average Power', 'Power Count', 'Prefer Perceived Exertion', 'Perceived Relative Effort', 'Commute.1', 'Total Weight Lifted', 'From Upload', 'Grade Adjusted Distance', 'Weather Observation Time', 'Weather Condition', 'Weather Temperature', 'Apparent Temperature', 'Dewpoint', 'Humidity', 'Weather Pressure', 'Wind Speed', 'Wind Gust', 'Wind Bearing', 'Precipitation Intensity', 'Sunrise Time', 'Sunset Time', 'Moon Phase', 'Bike', 'Gear', 'Precipitation Probability', 'Precipitation Type', 'Cloud Cover', 'Weather Visibility', 'UV Index', 'Weather Ozone', 'Jump Count', 'Total Grit', 'Average Flow', 'Flagged', 'Average Elapsed Speed', 'Dirt Distance', 'Newly Explored Distance', 'Newly Explored Dirt Distance', 'Activity Count', 'Total Steps', 'Carbon Saved', 'Pool Length', 'Training Load', 'Intensity', 'Average Grade Adjusted Pace', 'Timer Time', 'Total Cycles', 'Media']\n",
      "      Moving Time Distance  Max Speed  Average Speed  Elevation Gain  \\\n",
      "2580       1058.0     4.17   7.073926       3.943157            35.0   \n",
      "2581       1225.0     5.03   8.466016       4.107167             0.0   \n",
      "2582       1259.0     4.83   4.793994       3.842105            31.0   \n",
      "2583       2217.0     8.62   5.110010       3.888710            94.0   \n",
      "2584       4006.0    16.13   5.669922       4.027589           191.0   \n",
      "...           ...      ...        ...            ...             ...   \n",
      "3002       3841.0    15.50   6.118066       4.036045           210.0   \n",
      "3003       1977.0     7.93   5.482031       4.012367            70.0   \n",
      "3004       5330.0    22.54   5.892000       4.228929           165.0   \n",
      "3005       3441.0    13.07   5.045996       3.798634           138.0   \n",
      "3006       3800.0    15.29   7.227930       4.025608           221.0   \n",
      "\n",
      "      Average Heart Rate  Max Heart Rate  Average Watts  \n",
      "2580          146.067627           172.0     399.862793  \n",
      "2581          142.908188           160.0     425.446198  \n",
      "2582          142.301514           152.0     393.233093  \n",
      "2583          141.877426           160.0     400.542297  \n",
      "2584          139.123535           163.0     413.164856  \n",
      "...                  ...             ...            ...  \n",
      "3002          149.622681           168.0     430.415466  \n",
      "3003          151.137726           168.0     422.785828  \n",
      "3004          158.861893           178.0     443.728668  \n",
      "3005          139.423462           159.0     404.704895  \n",
      "3006          145.288055           167.0     425.238708  \n",
      "\n",
      "[315 rows x 8 columns]\n"
     ]
    }
   ],
   "source": [
    "import pandas as pd\n",
    "from datetime import datetime, timedelta\n",
    "\n",
    "df = pd.read_csv('activities.csv')\n",
    "df['Activity Date'] = pd.to_datetime(df['Activity Date'])\n",
    "one_year_ago = datetime.now() - timedelta(days=365)\n",
    "df = df[df['Activity Date'] > one_year_ago]\n",
    "df = df[df['Activity Type'] == 'Run']\n",
    "df = df[df['From Upload'] == 1.0]\n",
    "\n",
    "cols = ['Moving Time', 'Distance', 'Max Speed', 'Average Speed', 'Elevation Gain', 'Average Heart Rate', 'Max Heart Rate', 'Average Watts']\n",
    "\n",
    "print(df.columns.array.tolist())\n",
    "df = df[cols]\n",
    "print(df)"
   ]
  },
  {
   "cell_type": "code",
   "execution_count": 4,
   "metadata": {},
   "outputs": [],
   "source": [
    "from sklearn.mixture import BayesianGaussianMixture\n",
    "\n",
    "alpha = .01\n",
    "model = BayesianGaussianMixture(\n",
    "    n_components=50,  # Upper limit on number of components\n",
    "    covariance_type='full', \n",
    "    weight_concentration_prior_type='dirichlet_process',  # Enable Dirichlet Process behavior\n",
    "    weight_concentration_prior=alpha  # Control sparsity of the mixture\n",
    ")"
   ]
  }
 ],
 "metadata": {
  "kernelspec": {
   "display_name": "Python 3",
   "language": "python",
   "name": "python3"
  },
  "language_info": {
   "codemirror_mode": {
    "name": "ipython",
    "version": 3
   },
   "file_extension": ".py",
   "mimetype": "text/x-python",
   "name": "python",
   "nbconvert_exporter": "python",
   "pygments_lexer": "ipython3",
   "version": "3.10.2"
  },
  "orig_nbformat": 4
 },
 "nbformat": 4,
 "nbformat_minor": 2
}
